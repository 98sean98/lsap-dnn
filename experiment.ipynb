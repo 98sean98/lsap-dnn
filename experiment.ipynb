{
 "cells": [
  {
   "cell_type": "code",
   "execution_count": 1,
   "id": "7be4f944-9b45-44f3-b9e5-b7c5fcde6f43",
   "metadata": {
    "tags": []
   },
   "outputs": [],
   "source": [
    "from hungarian_algorithm import algorithm"
   ]
  },
  {
   "cell_type": "code",
   "execution_count": 2,
   "id": "09ca8870-10e6-4cc0-b6d6-5b6077434b78",
   "metadata": {
    "tags": []
   },
   "outputs": [],
   "source": [
    "H = {\n",
    "    'A': { '#191': 22, '#122': 14, '#173': 120, '#121': 21, '#128': 4, '#104': 51 },\n",
    "    'B': { '#191': 19, '#122': 12, '#173': 172, '#121': 21, '#128': 28, '#104': 43 },\n",
    "    'C': { '#191': 161, '#122': 122, '#173': 2, '#121': 50, '#128': 128, '#104': 39 },\n",
    "    'D': { '#191': 19, '#122': 22, '#173': 90, '#121': 11, '#128': 28, '#104': 4 },\n",
    "    'E': { '#191': 1, '#122': 30, '#173': 113, '#121': 14, '#128': 28, '#104': 86 },\n",
    "    'F': { '#191': 60, '#122': 70, '#173': 170, '#121': 28, '#128': 68, '#104': 104 },\n",
    "}"
   ]
  },
  {
   "cell_type": "code",
   "execution_count": 3,
   "id": "30cc525d-39df-40f1-8ce6-3e4677cd689a",
   "metadata": {
    "tags": []
   },
   "outputs": [
    {
     "data": {
      "text/plain": [
       "[(('F', '#121'), 28),\n",
       " (('C', '#173'), 2),\n",
       " (('E', '#191'), 1),\n",
       " (('B', '#122'), 12),\n",
       " (('D', '#104'), 4),\n",
       " (('A', '#128'), 4)]"
      ]
     },
     "execution_count": 3,
     "metadata": {},
     "output_type": "execute_result"
    }
   ],
   "source": [
    "algorithm.find_matching(H, matching_type='min', return_type='list')"
   ]
  },
  {
   "cell_type": "code",
   "execution_count": 4,
   "id": "a5b49a41-01cc-4a65-bdbc-95981bed2c63",
   "metadata": {
    "tags": []
   },
   "outputs": [],
   "source": [
    "import random"
   ]
  },
  {
   "cell_type": "code",
   "execution_count": 5,
   "id": "6a409425-9cb4-49cd-8f59-13f2e4305174",
   "metadata": {
    "tags": []
   },
   "outputs": [],
   "source": [
    "import numpy as np\n",
    "import pandas as pd"
   ]
  },
  {
   "cell_type": "code",
   "execution_count": 6,
   "id": "daba582e-1643-4fe0-8d99-8de22666ba43",
   "metadata": {
    "tags": []
   },
   "outputs": [],
   "source": [
    "def create_sample(n=4, bound=10):\n",
    "    G = {}\n",
    "    for j in range(n):\n",
    "        G[f'j{j}'] = {}\n",
    "        for i in range(n):\n",
    "            G[f'j{j}'][f'i{i}'] = random.randrange(bound)\n",
    "    m = algorithm.find_matching(G, matching_type='min', return_type='list')\n",
    "\n",
    "    g = np.array(pd.DataFrame.from_dict(G))\n",
    "    g = g.tolist()\n",
    "\n",
    "    if m is False:\n",
    "        g, m = create_sample(n, bound)\n",
    "    else:\n",
    "        m = [[int(j[1:]), int(i[1:]), c] for (j, i), c in m]\n",
    "\n",
    "    return g, m"
   ]
  },
  {
   "cell_type": "code",
   "execution_count": 7,
   "id": "fb260880-9615-47dd-8fbb-42b0fe958e9d",
   "metadata": {
    "tags": []
   },
   "outputs": [],
   "source": [
    "import h5py"
   ]
  },
  {
   "cell_type": "code",
   "execution_count": 8,
   "id": "9f497a42-6cf1-4c4e-bdf6-93cb54521a59",
   "metadata": {
    "tags": []
   },
   "outputs": [],
   "source": [
    "import torch"
   ]
  },
  {
   "cell_type": "code",
   "execution_count": 9,
   "id": "83dd101f-3fd6-4dd6-b11c-0488dac37a98",
   "metadata": {
    "tags": []
   },
   "outputs": [],
   "source": [
    "data_file = h5py.File('data4.h5', 'r')\n",
    "x_data = data_file['x']\n",
    "y_data = data_file['y']\n",
    "x_bound = 100"
   ]
  },
  {
   "cell_type": "code",
   "execution_count": 10,
   "id": "f2c147d1-5efe-4803-bbc3-2af887c549d1",
   "metadata": {
    "tags": []
   },
   "outputs": [
    {
     "data": {
      "text/plain": [
       "tensor([1., 2., 3.], device='cuda:0')"
      ]
     },
     "execution_count": 10,
     "metadata": {},
     "output_type": "execute_result"
    }
   ],
   "source": [
    "device='cuda'\n",
    "torch.Tensor([1,2,3]).to(device)"
   ]
  },
  {
   "cell_type": "code",
   "execution_count": 11,
   "id": "e2858beb-9917-4b67-a294-bda4b1934c1b",
   "metadata": {
    "tags": []
   },
   "outputs": [
    {
     "data": {
      "text/plain": [
       "((50000, 4, 4), (50000, 4, 3))"
      ]
     },
     "execution_count": 11,
     "metadata": {},
     "output_type": "execute_result"
    }
   ],
   "source": [
    "x_data = np.array(x_data, dtype='float32')\n",
    "y_data = np.array(y_data, dtype=int)\n",
    "x_data.shape, y_data.shape"
   ]
  },
  {
   "cell_type": "code",
   "execution_count": 12,
   "id": "2cd983ca-776e-413a-bcba-3a4054212222",
   "metadata": {
    "tags": []
   },
   "outputs": [
    {
     "data": {
      "text/plain": [
       "array([2, 0, 3, 1])"
      ]
     },
     "execution_count": 12,
     "metadata": {},
     "output_type": "execute_result"
    }
   ],
   "source": [
    "y_data[0][:,0]"
   ]
  },
  {
   "cell_type": "code",
   "execution_count": 13,
   "id": "a9ad560f-6b09-4d2b-b4c9-31727839918d",
   "metadata": {
    "tags": []
   },
   "outputs": [
    {
     "data": {
      "text/plain": [
       "(tensor([[[70., 12., 50., 71.],\n",
       "          [17., 78., 46., 55.],\n",
       "          [63., 10., 68., 35.],\n",
       "          [ 8., 15., 62., 86.]],\n",
       " \n",
       "         [[63., 55., 67., 61.],\n",
       "          [35., 81., 99., 31.],\n",
       "          [60.,  6., 66.,  3.],\n",
       "          [69.,  2., 31., 71.]],\n",
       " \n",
       "         [[45., 92.,  4., 30.],\n",
       "          [87., 89., 29., 55.],\n",
       "          [98., 32., 52., 22.],\n",
       "          [ 1., 48., 46., 62.]],\n",
       " \n",
       "         ...,\n",
       " \n",
       "         [[ 1., 86., 44., 59.],\n",
       "          [67., 47., 24., 11.],\n",
       "          [34., 57., 67., 62.],\n",
       "          [57., 17., 10., 54.]],\n",
       " \n",
       "         [[56., 81.,  9., 18.],\n",
       "          [54., 72., 82., 63.],\n",
       "          [62.,  2., 99., 26.],\n",
       "          [77., 62., 73., 45.]],\n",
       " \n",
       "         [[36., 36., 74., 90.],\n",
       "          [94., 73., 51., 61.],\n",
       "          [69., 28., 60., 96.],\n",
       "          [41.,  7., 92., 22.]]]),\n",
       " tensor([[[0., 0., 0., 1.],\n",
       "          [1., 0., 0., 0.],\n",
       "          [0., 1., 0., 0.],\n",
       "          [0., 0., 1., 0.]],\n",
       " \n",
       "         [[0., 1., 0., 0.],\n",
       "          [0., 0., 0., 1.],\n",
       "          [1., 0., 0., 0.],\n",
       "          [0., 0., 1., 0.]],\n",
       " \n",
       "         [[0., 0., 0., 1.],\n",
       "          [0., 0., 1., 0.],\n",
       "          [0., 1., 0., 0.],\n",
       "          [1., 0., 0., 0.]],\n",
       " \n",
       "         ...,\n",
       " \n",
       "         [[1., 0., 0., 0.],\n",
       "          [0., 0., 1., 0.],\n",
       "          [0., 0., 0., 1.],\n",
       "          [0., 1., 0., 0.]],\n",
       " \n",
       "         [[0., 1., 0., 0.],\n",
       "          [0., 0., 1., 0.],\n",
       "          [1., 0., 0., 0.],\n",
       "          [0., 0., 0., 1.]],\n",
       " \n",
       "         [[1., 0., 0., 0.],\n",
       "          [0., 0., 1., 0.],\n",
       "          [0., 1., 0., 0.],\n",
       "          [0., 0., 0., 1.]]]))"
      ]
     },
     "execution_count": 13,
     "metadata": {},
     "output_type": "execute_result"
    }
   ],
   "source": [
    "ys = []\n",
    "for y in y_data:\n",
    "    a = np.zeros((4, 4), dtype='float32')\n",
    "    a[y[:,0], y[:,1]] = 1\n",
    "    ys.append(a)\n",
    "ys = torch.from_numpy(np.array(ys))\n",
    "xs = torch.from_numpy(x_data)\n",
    "xs, ys"
   ]
  },
  {
   "cell_type": "code",
   "execution_count": 14,
   "id": "e5af87c1-6a3b-48b0-b178-5ce3e9a13e00",
   "metadata": {
    "tags": []
   },
   "outputs": [],
   "source": [
    "x_train, x_test = xs[:45000], xs[45000:]\n",
    "y_train, y_test = ys[:45000], ys[45000:]"
   ]
  },
  {
   "cell_type": "code",
   "execution_count": 15,
   "id": "18c25ff1-dcfa-4c1a-9a3e-31b4890ad592",
   "metadata": {
    "tags": []
   },
   "outputs": [
    {
     "data": {
      "text/plain": [
       "(tensor([[70., 12., 50., 71.],\n",
       "         [17., 78., 46., 55.],\n",
       "         [63., 10., 68., 35.],\n",
       "         [ 8., 15., 62., 86.]]),\n",
       " array([[ 2,  1, 46],\n",
       "        [ 0,  3,  8],\n",
       "        [ 3,  2, 35],\n",
       "        [ 1,  0, 12]]),\n",
       " tensor([[0., 0., 0., 1.],\n",
       "         [1., 0., 0., 0.],\n",
       "         [0., 1., 0., 0.],\n",
       "         [0., 0., 1., 0.]]))"
      ]
     },
     "execution_count": 15,
     "metadata": {},
     "output_type": "execute_result"
    }
   ],
   "source": [
    "x_train[0], y_data[0], y_train[0]"
   ]
  },
  {
   "cell_type": "code",
   "execution_count": 16,
   "id": "297b105a-b54a-40ed-995c-35dabe53f60c",
   "metadata": {
    "tags": []
   },
   "outputs": [],
   "source": [
    "class CustomDataset(torch.utils.data.Dataset):\n",
    "    def __init__(self, xs, ys):\n",
    "        self.xs = xs.to(device)\n",
    "        self.ys = ys.to(device)\n",
    "\n",
    "    def __len__(self):\n",
    "        return len(self.xs)\n",
    "\n",
    "    def __getitem__(self, idx):\n",
    "        return self.xs[idx], self.ys[idx]"
   ]
  },
  {
   "cell_type": "code",
   "execution_count": 17,
   "id": "11b44fc1-a961-409d-bd47-de8380fce7ab",
   "metadata": {
    "tags": []
   },
   "outputs": [],
   "source": [
    "train_dataset = CustomDataset(x_train, y_train)\n",
    "test_dataset = CustomDataset(x_test, y_test)"
   ]
  },
  {
   "cell_type": "code",
   "execution_count": 18,
   "id": "a64c1c78-edc3-4405-8551-04408cd547a0",
   "metadata": {
    "tags": []
   },
   "outputs": [],
   "source": [
    "train_dataloader = torch.utils.data.DataLoader(train_dataset, batch_size=512, shuffle=True)\n",
    "test_dataloader = torch.utils.data.DataLoader(test_dataset, batch_size=512, shuffle=True)"
   ]
  },
  {
   "cell_type": "code",
   "execution_count": 50,
   "id": "cee45374-0dcb-484e-92bf-dade8de2e0ba",
   "metadata": {},
   "outputs": [],
   "source": [
    "class LinearModel(torch.nn.Module):\n",
    "    def __init__(self, input_n, output_n):\n",
    "        super().__init__()\n",
    "        \n",
    "        self.stack = torch.nn.Sequential(\n",
    "            torch.nn.Flatten(),\n",
    "            torch.nn.Linear(input_n, 32),\n",
    "            torch.nn.Sigmoid(),\n",
    "            torch.nn.Linear(32, 64),\n",
    "            torch.nn.Sigmoid(),\n",
    "            torch.nn.Linear(64, 256),\n",
    "            torch.nn.Sigmoid(),\n",
    "            torch.nn.Linear(256, output_n),\n",
    "            torch.nn.Softmax(dim=1)\n",
    "        )\n",
    "    \n",
    "    def forward(self, x):\n",
    "        return self.stack(x)"
   ]
  },
  {
   "cell_type": "code",
   "execution_count": 51,
   "id": "eeb98374-76b4-440a-824e-982fcfdffdd5",
   "metadata": {
    "tags": []
   },
   "outputs": [],
   "source": [
    "models = [LinearModel(16, 4).to(device) for _ in range(4)]"
   ]
  },
  {
   "cell_type": "code",
   "execution_count": 52,
   "id": "6b706d66-6d28-4256-b937-ad722b5c3fb5",
   "metadata": {
    "tags": []
   },
   "outputs": [],
   "source": [
    "loss_fn = torch.nn.CrossEntropyLoss()"
   ]
  },
  {
   "cell_type": "code",
   "execution_count": 53,
   "id": "8f29ac5f-ef01-4100-a8e8-a614547686b3",
   "metadata": {
    "tags": []
   },
   "outputs": [],
   "source": [
    "learning_rate = 1e-3\n",
    "l2_regularization_weight = 1e-5\n",
    "optimizers = [torch.optim.Adam(model.parameters(), lr=learning_rate, weight_decay=l2_regularization_weight)\n",
    "             for model in models\n",
    "             ]"
   ]
  },
  {
   "cell_type": "code",
   "execution_count": 54,
   "id": "15816817-3775-4829-b58c-a3893e99b89d",
   "metadata": {
    "tags": []
   },
   "outputs": [],
   "source": [
    "def transform_ys(ys):\n",
    "    ys = torch.swapaxes(ys, 0, 1)\n",
    "    ys = torch.split(ys, 1)\n",
    "    return [k[0] for k in ys]"
   ]
  },
  {
   "cell_type": "code",
   "execution_count": 55,
   "id": "3f22f108-233c-4b6b-a71c-0940df8129ff",
   "metadata": {
    "tags": []
   },
   "outputs": [
    {
     "data": {
      "text/plain": [
       "(45000, 5000)"
      ]
     },
     "execution_count": 55,
     "metadata": {},
     "output_type": "execute_result"
    }
   ],
   "source": [
    "train_size = x_train.shape[0]\n",
    "test_size = x_test.shape[0]\n",
    "train_size, test_size"
   ]
  },
  {
   "cell_type": "code",
   "execution_count": 56,
   "id": "ddf79cb6-c66d-4257-a592-9e6b22f53e37",
   "metadata": {
    "tags": []
   },
   "outputs": [],
   "source": [
    "def train_one_epoch(report_loss = False):\n",
    "    train_losses = [0 for _ in models]\n",
    "    \n",
    "    for i, data in enumerate(train_dataloader):\n",
    "        xs, ys = data\n",
    "        batch_size = xs.shape[0]\n",
    "\n",
    "        for optimizer in optimizers:\n",
    "            optimizer.zero_grad()\n",
    "\n",
    "        ys_pred = [model(xs) for model in models]\n",
    "        ys = transform_ys(ys)\n",
    "        \n",
    "        # print(ys_pred)\n",
    "        # print(ys)\n",
    "        outputs = zip(ys_pred, ys)\n",
    "\n",
    "        losses = [loss_fn(p, q) for p, q in outputs]\n",
    "\n",
    "        for loss in losses:\n",
    "            loss.backward()\n",
    "\n",
    "        for optimizer in optimizers:\n",
    "            optimizer.step()\n",
    "            \n",
    "        train_losses = zip(train_losses, losses)\n",
    "        train_losses = [l1 + l2.cpu().item() * batch_size for l1, l2 in train_losses]\n",
    "    \n",
    "    train_losses = np.array(train_losses) / train_size\n",
    "    \n",
    "    if report_loss:\n",
    "        print(train_losses)\n",
    "\n",
    "def test_one_epoch(report_loss=False):\n",
    "    test_losses = [0 for _ in models]\n",
    "    correct = [0 for _ in models]\n",
    "    \n",
    "    for model in models:\n",
    "        model.eval()\n",
    "    \n",
    "    with torch.no_grad():\n",
    "        for i, data in enumerate(test_dataloader):\n",
    "            xs, ys = data\n",
    "            batch_size = xs.shape[0]\n",
    "            ys_pred = [model(xs) for model in models]\n",
    "            ys = transform_ys(ys)\n",
    "            outputs = zip(ys_pred, ys)\n",
    "            losses = [loss_fn(p, q).detach().cpu().item() for p, q in outputs]\n",
    "            test_losses = zip(test_losses, losses)\n",
    "            test_losses = [l1 + l2 * batch_size for l1, l2 in test_losses]\n",
    "            \n",
    "            prediction = [torch.argmax(u, dim=1) for u in ys_pred]\n",
    "            label = [torch.argmax(u, dim=1) for u in ys]\n",
    "            correct = zip(correct, prediction, label)\n",
    "            correct = [c + (p == l).sum().item() for c, p, l in correct]\n",
    "            \n",
    "        test_losses = np.array(test_losses) / test_size\n",
    "        accuracy = np.array(correct) / test_size\n",
    "        \n",
    "        if report_loss:\n",
    "            print(\"test_losses:\", test_losses)\n",
    "            print(\"accuracy:\", accuracy)"
   ]
  },
  {
   "cell_type": "code",
   "execution_count": 57,
   "id": "a824fdba-4037-4f96-8fb4-607934024e4b",
   "metadata": {
    "tags": []
   },
   "outputs": [
    {
     "name": "stdout",
     "output_type": "stream",
     "text": [
      "[1.37339386 1.36656279 1.36717059 1.36885383]\n",
      "test_losses: [1.32080922 1.28917903 1.29081502 1.29437913]\n",
      "accuracy: [0.5128 0.4298 0.4706 0.4264]\n"
     ]
    }
   ],
   "source": [
    "train_one_epoch(True)\n",
    "test_one_epoch(True)"
   ]
  },
  {
   "cell_type": "code",
   "execution_count": 59,
   "id": "e383d082-3196-4a68-94f2-8621ad232d21",
   "metadata": {
    "tags": []
   },
   "outputs": [
    {
     "name": "stdout",
     "output_type": "stream",
     "text": [
      "[0.89006651 0.8956278  0.88702601 0.88995201]\n",
      "test_losses: [0.91127457 0.91288817 0.90746934 0.90421624]\n",
      "accuracy: [0.831  0.8278 0.835  0.8346]\n",
      "[0.88977152 0.89567771 0.88493446 0.88838661]\n",
      "test_losses: [0.91281575 0.91142047 0.90753586 0.90444095]\n",
      "accuracy: [0.829  0.8258 0.833  0.8368]\n",
      "[0.88692332 0.8941522  0.88500832 0.88772669]\n",
      "test_losses: [0.91283648 0.91044427 0.9051543  0.9048224 ]\n",
      "accuracy: [0.8284 0.8296 0.8342 0.8356]\n",
      "[0.88780898 0.89225595 0.88461833 0.88844227]\n",
      "test_losses: [0.91248184 0.91157607 0.90562022 0.90638036]\n",
      "accuracy: [0.8266 0.8284 0.8344 0.834 ]\n",
      "[0.88688756 0.89177794 0.88545827 0.88881885]\n",
      "test_losses: [0.91516433 0.91161943 0.90371504 0.90306844]\n",
      "accuracy: [0.8244 0.8268 0.836  0.8382]\n",
      "[0.88462374 0.89007743 0.88371335 0.88869364]\n",
      "test_losses: [0.9141321  0.90875262 0.90940377 0.90793723]\n",
      "accuracy: [0.8252 0.8326 0.8318 0.8344]\n",
      "[0.88544122 0.89086368 0.88347803 0.88727401]\n",
      "test_losses: [0.91220003 0.90926891 0.90818567 0.90067536]\n",
      "accuracy: [0.8272 0.8296 0.8328 0.839 ]\n",
      "[0.88350714 0.88879738 0.88239229 0.88374669]\n",
      "test_losses: [0.91399473 0.90923653 0.90530349 0.90636725]\n",
      "accuracy: [0.823  0.8302 0.8346 0.832 ]\n",
      "[0.88260102 0.88878313 0.88341866 0.88356285]\n",
      "test_losses: [0.91233617 0.90853307 0.90682028 0.90525983]\n",
      "accuracy: [0.8274 0.83   0.8332 0.8362]\n",
      "[0.88262396 0.88815058 0.8821096  0.88357267]\n",
      "test_losses: [0.91061877 0.90699265 0.90632419 0.90081425]\n",
      "accuracy: [0.8284 0.8326 0.836  0.8384]\n"
     ]
    }
   ],
   "source": [
    "for i in range(100):\n",
    "    report_loss = i % 10 == 0\n",
    "    # report_loss = True\n",
    "    train_one_epoch(report_loss)\n",
    "    test_one_epoch(report_loss)"
   ]
  },
  {
   "cell_type": "code",
   "execution_count": 27,
   "id": "659e57ec-16eb-44f0-a52d-e3512b35e279",
   "metadata": {},
   "outputs": [],
   "source": [
    "class ConvModel(torch.nn.Module):\n",
    "    def __init__(self, input_n, output_n):\n",
    "        self.stack = torch.nn.Sequential(\n",
    "            torch.nn.Conv2D(1, 1, 1),\n",
    "            torch.nn.ReLU(),\n",
    "            torch.nn.Conv2D(),\n",
    "            torch.nn.ReLU(),\n",
    "            torch.nn.Flatten(),\n",
    "            torch.nn.Linear(),\n",
    "            torch.nn.Linear(256, n),\n",
    "            torch.nn.Softmax(dim=1)\n",
    "        )\n",
    "    \n",
    "    def forward(x):\n",
    "        return self.stack(x)"
   ]
  }
 ],
 "metadata": {
  "kernelspec": {
   "display_name": "Python 3 (ipykernel)",
   "language": "python",
   "name": "python3"
  },
  "language_info": {
   "codemirror_mode": {
    "name": "ipython",
    "version": 3
   },
   "file_extension": ".py",
   "mimetype": "text/x-python",
   "name": "python",
   "nbconvert_exporter": "python",
   "pygments_lexer": "ipython3",
   "version": "3.10.11"
  }
 },
 "nbformat": 4,
 "nbformat_minor": 5
}
